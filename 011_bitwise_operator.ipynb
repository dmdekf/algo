{
 "cells": [
  {
   "cell_type": "markdown",
   "metadata": {},
   "source": [
    "# 비트연산\n",
    "\n",
    "비트 연산을 활용한 Exhaustive Enumeration (모든 경우의 수)\n",
    "\n",
    "## I. 비트연산자\n",
    "\n",
    "### (1) 기본연산자\n",
    "\n",
    "![bitwise_operator](https://image.slidesharecdn.com/15-bitwiseoperators-130815152621-phpapp02/95/15-bitwise-operators-3-638.jpg?cb=1376580623)"
   ]
  },
  {
   "cell_type": "code",
   "execution_count": 2,
   "metadata": {},
   "outputs": [
    {
     "data": {
      "text/plain": [
       "0"
      ]
     },
     "execution_count": 2,
     "metadata": {},
     "output_type": "execute_result"
    }
   ],
   "source": [
    "24 & 32\n",
    "\n",
    " 11000\n",
    "100000\n"
   ]
  },
  {
   "cell_type": "markdown",
   "metadata": {},
   "source": [
    "### (2) 그 외 연산자\n",
    "\n",
    "- `~` : not\n",
    "- `<<` : lshift  # 1 << n == 1\\*2\\**n \n",
    "- `>>` : rshift # 1 >> n == 1/2**n "
   ]
  },
  {
   "cell_type": "markdown",
   "metadata": {},
   "source": [
    "## II. 비트연산 활용\n",
    "\n",
    "### (1) 정수로 (정수들의) 집합을 표현\n",
    "```python\n",
    "{1, 3, 5, 7} = 2**1 + 2**3 + 2**5 + 2**7\n",
    "{1, 3, 5, 7} = 2 + 8 + 32 + 128\n",
    "             = 170\n",
    "    \n",
    "[9, 8, 7, 6, 5, 4, 3, 2, 1, 0]\n",
    "[x, x, o, x, o, x, o, x, o, x]\n",
    "\n",
    "# 정수 요소[인덱스]의 포함 여부에 따른 2진수로 표현 가능\n",
    "```"
   ]
  },
  {
   "cell_type": "code",
   "execution_count": null,
   "metadata": {},
   "outputs": [],
   "source": [
    "n = 6\n",
    "for i in range(1*2**6) # 64번. 2의 6승.\n",
    "    for j in range(7)\n",
    "    #0~6  64 * 7번 도는 과정.\n",
    "        if i & ( 1<< j):# 1이 아닐 경우 모두 0.\n",
    "        # i = 0, j = 0 => 0\n",
    "        # i = 0, j = 1 => 0 \n",
    "        # i = 0 ,j = 2 = > 0\n",
    "        # i = 1, j = 1 => 1 arr[0] => 3\n",
    "        # i = 1, j = 2 => 0\n",
    "        print(arr[j])"
   ]
  },
  {
   "cell_type": "markdown",
   "metadata": {},
   "source": [
    "### (2) 비트마스크를 활용한 "
   ]
  },
  {
   "cell_type": "code",
   "execution_count": null,
   "metadata": {},
   "outputs": [],
   "source": []
  },
  {
   "cell_type": "markdown",
   "metadata": {},
   "source": [
    "### (3) 비트마스크를 활용한 부분집합 생성"
   ]
  },
  {
   "cell_type": "code",
   "execution_count": null,
   "metadata": {},
   "outputs": [],
   "source": []
  },
  {
   "cell_type": "markdown",
   "metadata": {},
   "source": [
    "## III. 부분집합의 합\n",
    "Powerset(멱집합): 주어진 집합의 모든 부분 집합들로 구성된 집합이다.\n",
    "부분집합의 합 : 멱집합의 개별 요소들의 합\n",
    "\n",
    "\n",
    "### (1) Powerset을 생성하는 방법\n",
    "\n",
    "0. `itertools.combinations()`\n",
    "1. 전수 나열(Exhaustive Enumerat)\n",
    "2. 비트연산 활용 (비트마스크)\n",
    "3. 재귀"
   ]
  },
  {
   "cell_type": "markdown",
   "metadata": {},
   "source": [
    "> 주어진 집합 [1, 2, 3, 4]에 대한 **멱집합**을 구하는 방법"
   ]
  },
  {
   "cell_type": "code",
   "execution_count": 3,
   "metadata": {},
   "outputs": [],
   "source": [
    "given_set = [1, 2, 3, 4]"
   ]
  },
  {
   "cell_type": "code",
   "execution_count": 30,
   "metadata": {},
   "outputs": [
    {
     "name": "stdout",
     "output_type": "stream",
     "text": [
      "[(1, 2, 3), (1, 2, 4), (1, 3, 4), (2, 3, 4)]\n",
      "[(), (1,), (2,), (3,), (4,), (1, 2), (1, 3), (1, 4), (2, 3), (2, 4), (3, 4), (1, 2, 3), (1, 2, 4), (1, 3, 4), (2, 3, 4), (1, 2, 3, 4)]\n",
      "1\n"
     ]
    }
   ],
   "source": [
    "# 0. itertools.combinations()\n",
    "from itertools import combinations\n",
    "\n",
    "## (1) n 개의 원소를 가진 부분집합 64\n",
    "\n",
    "\n",
    "print(list(combinations(given_set,3)))\n",
    "\n",
    "## (2) powerset(멱집합) : 가능한 모든 부분집합 (공집합 포함)\n",
    "powerset = []\n",
    "for n in range(len(given_set)+1):\n",
    "    powerset += list(combinations(given_set,n))\n",
    "print(powerset)\n",
    "\n",
    "## (3) 공집합(빈 튜플)을 제외하기 위해서는\n",
    "powerset = []\n",
    "for n in range(len(given_set)+1):\n",
    "    powerset += list(combinations(given_set,n))\n",
    "print(sum(1 for i in powerset if len(i) == 0))\n"
   ]
  },
  {
   "cell_type": "code",
   "execution_count": 4,
   "metadata": {},
   "outputs": [],
   "source": [
    "given_set = [1, 2, 3, 4]"
   ]
  },
  {
   "cell_type": "code",
   "execution_count": 1,
   "metadata": {},
   "outputs": [],
   "source": [
    "# 1. 전수나열(Exhaustive Enumeration)\n",
    "\n",
    "# 부분집합의 수 = 2**n\n",
    "\n",
    "\n",
    "# 공집합 제외한 부분집합의 수 = 2**n - 1\n",
    "# => 1 << n - 1\n",
    "    "
   ]
  },
  {
   "cell_type": "code",
   "execution_count": 4,
   "metadata": {},
   "outputs": [],
   "source": [
    "given_set = [1, 2, 3, 4]"
   ]
  },
  {
   "cell_type": "code",
   "execution_count": null,
   "metadata": {},
   "outputs": [],
   "source": [
    "# 2. 비트연산(Bitwise Operation) & 비트마스크\n",
    "\n",
    "# 정수로 나타낼 수 있는 정수집합의 총 개수 = 2**n (부분집합의 수)\n",
    "    "
   ]
  },
  {
   "cell_type": "code",
   "execution_count": 4,
   "metadata": {},
   "outputs": [],
   "source": [
    "given_set = [1, 2, 3, 4]"
   ]
  },
  {
   "cell_type": "code",
   "execution_count": null,
   "metadata": {},
   "outputs": [],
   "source": [
    "# 3. 재귀(Recursion)\n",
    "\n",
    "# 합이 4인 부분집합의 수\n",
    "# m = 4\n"
   ]
  },
  {
   "cell_type": "code",
   "execution_count": null,
   "metadata": {},
   "outputs": [],
   "source": []
  }
 ],
 "metadata": {
  "kernelspec": {
   "display_name": "Python 3",
   "language": "python",
   "name": "python3"
  },
  "language_info": {
   "codemirror_mode": {
    "name": "ipython",
    "version": 3
   },
   "file_extension": ".py",
   "mimetype": "text/x-python",
   "name": "python",
   "nbconvert_exporter": "python",
   "pygments_lexer": "ipython3",
   "version": "3.7.3"
  }
 },
 "nbformat": 4,
 "nbformat_minor": 2
}
